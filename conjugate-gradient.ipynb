{
 "cells": [
  {
   "cell_type": "code",
   "execution_count": 1,
   "id": "a8b3c2a8",
   "metadata": {},
   "outputs": [],
   "source": [
    "using LinearAlgebra"
   ]
  },
  {
   "cell_type": "code",
   "execution_count": 2,
   "id": "8775a80b",
   "metadata": {},
   "outputs": [
    {
     "data": {
      "text/plain": [
       "conjgrad1 (generic function with 1 method)"
      ]
     },
     "execution_count": 2,
     "metadata": {},
     "output_type": "execute_result"
    }
   ],
   "source": [
    "function conjgrad1(A::Matrix{Float64}, b::Vector{Float64}, x::Vector{Float64})\n",
    "\n",
    "    r = A * x - b\n",
    "    p = -r\n",
    "        \n",
    "    k = 1\n",
    "    while norm(r) > 10e-6\n",
    "        # @show k, norm(r)\n",
    "        α = -(r' * p) / (p' * A * p)\n",
    "        x = x + α * p\n",
    "        r = A * x - b\n",
    "        β = (r' * A * p) / (p' * A * p)\n",
    "        p = -r + β * p\n",
    "        k += 1\n",
    "    end\n",
    "    \n",
    "    return x, k\n",
    "\n",
    "end"
   ]
  },
  {
   "cell_type": "code",
   "execution_count": 3,
   "id": "0e95589e",
   "metadata": {},
   "outputs": [
    {
     "data": {
      "text/plain": [
       "conjgrad2 (generic function with 1 method)"
      ]
     },
     "execution_count": 3,
     "metadata": {},
     "output_type": "execute_result"
    }
   ],
   "source": [
    "function conjgrad2(A::Matrix{Float64}, b::Vector{Float64}, x::Vector{Float64})\n",
    "    \n",
    "    r = A * x - b\n",
    "    p = -r\n",
    "        \n",
    "    k = 1\n",
    "    while norm(r) > 10e-6\n",
    "        # @show k, norm(r)\n",
    "        α = (r' * r) / (p' * A * p)\n",
    "        x = x + α * p\n",
    "        \n",
    "        r_old = deepcopy(r)\n",
    "        r = r_old + α * A * p\n",
    "        \n",
    "        β = (r' * r) / (r_old' * r_old)\n",
    "        p = -r + β * p\n",
    "        k += 1\n",
    "    end\n",
    "    \n",
    "    return x, k\n",
    "\n",
    "end"
   ]
  },
  {
   "cell_type": "code",
   "execution_count": 4,
   "id": "446365e3",
   "metadata": {},
   "outputs": [
    {
     "data": {
      "text/plain": [
       "x (generic function with 1 method)"
      ]
     },
     "execution_count": 4,
     "metadata": {},
     "output_type": "execute_result"
    }
   ],
   "source": [
    "A(n::Int64) = [1 / (i + j - 1) for i=1:n, j=1:n]  # Hilbert matrix\n",
    "b(n::Int64) = ones(n)  # Target\n",
    "x(n::Int64) = zeros(n)  # Initial guess"
   ]
  },
  {
   "cell_type": "code",
   "execution_count": 5,
   "id": "e2b6854d",
   "metadata": {},
   "outputs": [
    {
     "name": "stdout",
     "output_type": "stream",
     "text": [
      "n = 5\n",
      "  2.111 μs (66 allocations: 6.34 KiB)\n",
      "  1.967 μs (72 allocations: 7.75 KiB)\n",
      "(k₁, k₂) = (7, 7)\n",
      "n = 8\n",
      "  10.625 μs (286 allocations: 36.19 KiB)\n",
      "  6.667 μs (215 allocations: 28.80 KiB)\n",
      "(k₁, k₂) = (29, 20)\n",
      "n = 12\n",
      "  14.791 μs (316 allocations: 50.44 KiB)\n",
      "  8.819 μs (237 allocations: 38.42 KiB)\n",
      "(k₁, k₂) = (32, 22)\n",
      "n = 20\n",
      "  52.250 μs (726 allocations: 161.84 KiB)\n",
      "  20.167 μs (380 allocations: 82.44 KiB)\n",
      "(k₁, k₂) = (73, 35)\n"
     ]
    }
   ],
   "source": [
    "using BenchmarkTools\n",
    "\n",
    "for n in [5, 8, 12, 20]\n",
    "    @show n\n",
    "    _, k₁ = @btime conjgrad1(A($n), b($n), x($n))\n",
    "    _, k₂ = @btime conjgrad2(A($n), b($n), x($n))\n",
    "    @show k₁, k₂\n",
    "end"
   ]
  },
  {
   "cell_type": "code",
   "execution_count": null,
   "id": "5a703ceb",
   "metadata": {},
   "outputs": [],
   "source": []
  }
 ],
 "metadata": {
  "@webio": {
   "lastCommId": null,
   "lastKernelId": null
  },
  "kernelspec": {
   "display_name": "Julia 1.7.1",
   "language": "julia",
   "name": "julia-1.7"
  },
  "language_info": {
   "file_extension": ".jl",
   "mimetype": "application/julia",
   "name": "julia",
   "version": "1.7.1"
  }
 },
 "nbformat": 4,
 "nbformat_minor": 5
}
